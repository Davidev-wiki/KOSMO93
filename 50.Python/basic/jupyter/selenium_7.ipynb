{
 "cells": [
  {
   "cell_type": "code",
   "execution_count": 1,
   "id": "78108eb0",
   "metadata": {},
   "outputs": [
    {
     "name": "stderr",
     "output_type": "stream",
     "text": [
      "c:\\users\\82107\\desktop\\git repo\\50.python\\basic\\venv\\lib\\site-packages\\ipykernel_launcher.py:6: DeprecationWarning: executable_path has been deprecated, please pass in a Service object\n",
      "  \n"
     ]
    }
   ],
   "source": [
    "from selenium import webdriver\n",
    "from selenium.webdriver.common.keys import Keys\n",
    "from selenium.webdriver.common.by import By\n",
    "import time\n",
    "\n",
    "driver = webdriver.Chrome(\"./driver/chromedriver\")\n",
    "driver.get(\"http://192.168.0.126:8080/springKck/index.jsp\")     # 접속할 url\n",
    "#driver.implicitly_wait(time_to_wait=1)        # driver의 자체 함수를 이용해 interval 부여\n",
    "time.sleep(1)                                  # time 객체를 이용해 웹페이지 연결할 동안 1초 대기\n",
    "\n",
    "\n",
    "continue_link = driver.find_element(By.LINK_TEXT, '스프링 회원 : 로그인')\n",
    "continue_link.click()\n",
    "driver.find_element(By.ID, 'mid').send_keys('Davidev')\n",
    "driver.find_element(By.ID, 'mpw').send_keys('1')\n",
    "driver.find_element(By.ID, 'btn').send_keys(Keys.ENTER)"
   ]
  },
  {
   "cell_type": "code",
   "execution_count": null,
   "id": "e76eeccf",
   "metadata": {},
   "outputs": [],
   "source": []
  }
 ],
 "metadata": {
  "kernelspec": {
   "display_name": "Python 3 (ipykernel)",
   "language": "python",
   "name": "python3"
  },
  "language_info": {
   "codemirror_mode": {
    "name": "ipython",
    "version": 3
   },
   "file_extension": ".py",
   "mimetype": "text/x-python",
   "name": "python",
   "nbconvert_exporter": "python",
   "pygments_lexer": "ipython3",
   "version": "3.7.6"
  }
 },
 "nbformat": 4,
 "nbformat_minor": 5
}
