{
 "cells": [
  {
   "cell_type": "code",
   "execution_count": 5,
   "id": "3a8b4b24",
   "metadata": {},
   "outputs": [
    {
     "name": "stdout",
     "output_type": "stream",
     "text": [
      "Collecting folium\n",
      "  Downloading folium-0.12.1.post1-py2.py3-none-any.whl (95 kB)\n",
      "Requirement already satisfied: requests in c:\\users\\82107\\desktop\\git repo\\50.python\\basic\\venv\\lib\\site-packages (from folium) (2.26.0)\n",
      "Requirement already satisfied: jinja2>=2.9 in c:\\users\\82107\\desktop\\git repo\\50.python\\basic\\venv\\lib\\site-packages (from folium) (3.0.2)\n",
      "Requirement already satisfied: numpy in c:\\users\\82107\\desktop\\git repo\\50.python\\basic\\venv\\lib\\site-packages (from folium) (1.21.4)\n",
      "Collecting branca>=0.3.0\n",
      "  Downloading branca-0.4.2-py3-none-any.whl (24 kB)\n",
      "Requirement already satisfied: MarkupSafe>=2.0 in c:\\users\\82107\\desktop\\git repo\\50.python\\basic\\venv\\lib\\site-packages (from jinja2>=2.9->folium) (2.0.1)\n",
      "Requirement already satisfied: urllib3<1.27,>=1.21.1 in c:\\users\\82107\\desktop\\git repo\\50.python\\basic\\venv\\lib\\site-packages (from requests->folium) (1.26.7)\n",
      "Requirement already satisfied: idna<4,>=2.5 in c:\\users\\82107\\desktop\\git repo\\50.python\\basic\\venv\\lib\\site-packages (from requests->folium) (3.3)\n",
      "Requirement already satisfied: certifi>=2017.4.17 in c:\\users\\82107\\desktop\\git repo\\50.python\\basic\\venv\\lib\\site-packages (from requests->folium) (2021.10.8)\n",
      "Requirement already satisfied: charset-normalizer~=2.0.0 in c:\\users\\82107\\desktop\\git repo\\50.python\\basic\\venv\\lib\\site-packages (from requests->folium) (2.0.7)\n",
      "Installing collected packages: branca, folium\n",
      "Successfully installed branca-0.4.2 folium-0.12.1.post1\n",
      "Note: you may need to restart the kernel to use updated packages.\n"
     ]
    }
   ],
   "source": [
    "pip install folium"
   ]
  },
  {
   "cell_type": "code",
   "execution_count": 6,
   "id": "19d17be3",
   "metadata": {},
   "outputs": [
    {
     "ename": "FileNotFoundError",
     "evalue": "[Errno 2] No such file or directory: ',/seoul.html'",
     "output_type": "error",
     "traceback": [
      "\u001b[1;31m---------------------------------------------------------------------------\u001b[0m",
      "\u001b[1;31mFileNotFoundError\u001b[0m                         Traceback (most recent call last)",
      "\u001b[1;32m~\\AppData\\Local\\Temp/ipykernel_1788/3036831581.py\u001b[0m in \u001b[0;36m<module>\u001b[1;34m\u001b[0m\n\u001b[0;32m      5\u001b[0m \u001b[1;33m\u001b[0m\u001b[0m\n\u001b[0;32m      6\u001b[0m \u001b[1;31m# 지도를 HTML 파일로 저장하기\u001b[0m\u001b[1;33m\u001b[0m\u001b[1;33m\u001b[0m\u001b[1;33m\u001b[0m\u001b[0m\n\u001b[1;32m----> 7\u001b[1;33m \u001b[0mseoul_map\u001b[0m\u001b[1;33m.\u001b[0m\u001b[0msave\u001b[0m\u001b[1;33m(\u001b[0m\u001b[1;34m',/seoul.html'\u001b[0m\u001b[1;33m)\u001b[0m\u001b[1;33m\u001b[0m\u001b[1;33m\u001b[0m\u001b[0m\n\u001b[0m",
      "\u001b[1;32mc:\\users\\82107\\desktop\\git repo\\50.python\\basic\\venv\\lib\\site-packages\\branca\\element.py\u001b[0m in \u001b[0;36msave\u001b[1;34m(self, outfile, close_file, **kwargs)\u001b[0m\n\u001b[0;32m    160\u001b[0m         \"\"\"\n\u001b[0;32m    161\u001b[0m         \u001b[1;32mif\u001b[0m \u001b[0misinstance\u001b[0m\u001b[1;33m(\u001b[0m\u001b[0moutfile\u001b[0m\u001b[1;33m,\u001b[0m \u001b[0mstr\u001b[0m\u001b[1;33m)\u001b[0m \u001b[1;32mor\u001b[0m \u001b[0misinstance\u001b[0m\u001b[1;33m(\u001b[0m\u001b[0moutfile\u001b[0m\u001b[1;33m,\u001b[0m \u001b[0mbytes\u001b[0m\u001b[1;33m)\u001b[0m\u001b[1;33m:\u001b[0m\u001b[1;33m\u001b[0m\u001b[1;33m\u001b[0m\u001b[0m\n\u001b[1;32m--> 162\u001b[1;33m             \u001b[0mfid\u001b[0m \u001b[1;33m=\u001b[0m \u001b[0mopen\u001b[0m\u001b[1;33m(\u001b[0m\u001b[0moutfile\u001b[0m\u001b[1;33m,\u001b[0m \u001b[1;34m'wb'\u001b[0m\u001b[1;33m)\u001b[0m\u001b[1;33m\u001b[0m\u001b[1;33m\u001b[0m\u001b[0m\n\u001b[0m\u001b[0;32m    163\u001b[0m         \u001b[1;32melse\u001b[0m\u001b[1;33m:\u001b[0m\u001b[1;33m\u001b[0m\u001b[1;33m\u001b[0m\u001b[0m\n\u001b[0;32m    164\u001b[0m             \u001b[0mfid\u001b[0m \u001b[1;33m=\u001b[0m \u001b[0moutfile\u001b[0m\u001b[1;33m\u001b[0m\u001b[1;33m\u001b[0m\u001b[0m\n",
      "\u001b[1;31mFileNotFoundError\u001b[0m: [Errno 2] No such file or directory: ',/seoul.html'"
     ]
    }
   ],
   "source": [
    "import folium\n",
    "\n",
    "# 서울 지도 만들기\n",
    "seoul_map = folium.Map(location=[37.55, 126.98], zoom_start=12)\n",
    "\n",
    "# 지도를 HTML 파일로 저장하기\n",
    "seoul_map.save(',/seoul.html')"
   ]
  },
  {
   "cell_type": "code",
   "execution_count": null,
   "id": "7ff54fe1",
   "metadata": {},
   "outputs": [],
   "source": []
  }
 ],
 "metadata": {
  "kernelspec": {
   "display_name": "Python 3 (ipykernel)",
   "language": "python",
   "name": "python3"
  },
  "language_info": {
   "codemirror_mode": {
    "name": "ipython",
    "version": 3
   },
   "file_extension": ".py",
   "mimetype": "text/x-python",
   "name": "python",
   "nbconvert_exporter": "python",
   "pygments_lexer": "ipython3",
   "version": "3.7.6"
  }
 },
 "nbformat": 4,
 "nbformat_minor": 5
}
