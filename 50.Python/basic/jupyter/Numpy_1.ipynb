{
 "cells": [
  {
   "cell_type": "code",
   "execution_count": 2,
   "id": "4c2e1485",
   "metadata": {},
   "outputs": [
    {
     "name": "stdout",
     "output_type": "stream",
     "text": [
      "1.21.4\n"
     ]
    }
   ],
   "source": [
    "import numpy as np\n",
    "\n",
    "print(np.__version__)"
   ]
  },
  {
   "cell_type": "code",
   "execution_count": 3,
   "id": "e464b52c",
   "metadata": {},
   "outputs": [
    {
     "name": "stdout",
     "output_type": "stream",
     "text": [
      "ar1 >>> :  [1 2 3 4 5]\n",
      "ar1 >>> :  <class 'numpy.ndarray'>\n"
     ]
    }
   ],
   "source": [
    "# 리스트를 이용해서 numpy 생성\n",
    "ar1 = np.array([1, 2, 3, 4, 5])\n",
    "print('ar1 >>> : ', ar1)\n",
    "print('ar1 >>> : ', type(ar1))"
   ]
  },
  {
   "cell_type": "code",
   "execution_count": 5,
   "id": "e41c742e",
   "metadata": {},
   "outputs": [
    {
     "name": "stdout",
     "output_type": "stream",
     "text": [
      "ar2 >>> : \n",
      "[[10 20 30]\n",
      " [40 50 60]]\n",
      "ar2 >>> :  <class 'numpy.ndarray'>\n"
     ]
    }
   ],
   "source": [
    "ar2 = np.array([[10, 20, 30], [40, 50, 60]])\n",
    "print('ar2 >>> : ')\n",
    "print(ar2)\n",
    "print('ar2 >>> : ', type(ar2))"
   ]
  },
  {
   "cell_type": "code",
   "execution_count": 6,
   "id": "07025655",
   "metadata": {},
   "outputs": [
    {
     "name": "stdout",
     "output_type": "stream",
     "text": [
      "ar3 >>> :  [1 3 5 7 9]\n"
     ]
    }
   ],
   "source": [
    "# 값의 범위를 지정하여 numpy 생성 : np.arange(시작값, 끝값, 간격)\n",
    "ar3 = np.arange(1, 11, 2)\n",
    "print('ar3 >>> : ', ar3)"
   ]
  },
  {
   "cell_type": "code",
   "execution_count": 8,
   "id": "b8877865",
   "metadata": {},
   "outputs": [
    {
     "name": "stdout",
     "output_type": "stream",
     "text": [
      "ar4 >>> : \n",
      "[[1 2]\n",
      " [3 4]\n",
      " [5 6]]\n"
     ]
    }
   ],
   "source": [
    "# 구조를 지정하여 numpy 생성 : np.array().reshape()\n",
    "ar4 = np.array([1 ,2 , 3, 4, 5, 6]).reshape((3, 2))\n",
    "print('ar4 >>> : ')\n",
    "print(ar4)"
   ]
  },
  {
   "cell_type": "code",
   "execution_count": 10,
   "id": "15328201",
   "metadata": {},
   "outputs": [
    {
     "name": "stdout",
     "output_type": "stream",
     "text": [
      "ar5 >>> : \n",
      "[[0. 0. 0.]\n",
      " [0. 0. 0.]]\n"
     ]
    }
   ],
   "source": [
    "# 초기값과 구조를 지정하여 numpy 생성\n",
    "ar5 = np.zeros((2, 3))\n",
    "print('ar5 >>> : ')\n",
    "print(ar5)"
   ]
  },
  {
   "cell_type": "code",
   "execution_count": 13,
   "id": "91e2053f",
   "metadata": {},
   "outputs": [
    {
     "name": "stdout",
     "output_type": "stream",
     "text": [
      "ar2 >>> : \n",
      "[[10 20 30]\n",
      " [40 50 60]]\n",
      "ar6 >>> : \n",
      "[[10 20]\n",
      " [40 50]]\n"
     ]
    }
   ],
   "source": [
    "# numpy 슬라이싱\n",
    "print('ar2 >>> : ')\n",
    "print(ar2)\n",
    "ar6 = ar2[0:2, 0:2]\n",
    "print('ar6 >>> : ')\n",
    "print(ar6)"
   ]
  },
  {
   "cell_type": "code",
   "execution_count": 15,
   "id": "29b2595e",
   "metadata": {},
   "outputs": [
    {
     "name": "stdout",
     "output_type": "stream",
     "text": [
      "ar7 >>> :  [10 20 30]\n"
     ]
    }
   ],
   "source": [
    "ar7 = ar2[0, :]\n",
    "print('ar7 >>> : ', ar7)"
   ]
  },
  {
   "cell_type": "code",
   "execution_count": 16,
   "id": "b15ae41f",
   "metadata": {},
   "outputs": [
    {
     "name": "stdout",
     "output_type": "stream",
     "text": [
      "ar1 >>> :  [1 2 3 4 5]\n",
      "ar8 >>> :  [11 12 13 14 15]\n"
     ]
    }
   ],
   "source": [
    "# numpy 사칙연산\n",
    "print('ar1 >>> : ', ar1)\n",
    "ar8 = ar1 + 10\n",
    "print('ar8 >>> : ', ar8)"
   ]
  },
  {
   "cell_type": "code",
   "execution_count": 18,
   "id": "3a456562",
   "metadata": {},
   "outputs": [
    {
     "name": "stdout",
     "output_type": "stream",
     "text": [
      "ar1 + ar8 >>>>> \n",
      "ar1 >>> :  [1 2 3 4 5]\n",
      "ar8 >>> :  [11 12 13 14 15]\n",
      "aa1 >>> :  [12 14 16 18 20]\n"
     ]
    }
   ],
   "source": [
    "# ++++++++++++++++++++\n",
    "print('ar1 + ar8 >>>>> ')\n",
    "print('ar1 >>> : ', ar1)\n",
    "print('ar8 >>> : ', ar8)\n",
    "aa1 = ar1 + ar8\n",
    "print('aa1 >>> : ', aa1)"
   ]
  },
  {
   "cell_type": "code",
   "execution_count": 19,
   "id": "d468e037",
   "metadata": {},
   "outputs": [
    {
     "name": "stdout",
     "output_type": "stream",
     "text": [
      "ar8 - ar1 >>>>> \n",
      "ar8 >>> :  [11 12 13 14 15]\n",
      "ar1 >>> :  [1 2 3 4 5]\n",
      "aa1 >>> :  [10 10 10 10 10]\n"
     ]
    }
   ],
   "source": [
    "# --------------------\n",
    "print('ar8 - ar1 >>>>> ')\n",
    "print('ar8 >>> : ', ar8)\n",
    "print('ar1 >>> : ', ar1)\n",
    "aa1 = ar8 - ar1\n",
    "print('aa1 >>> : ', aa1)"
   ]
  },
  {
   "cell_type": "code",
   "execution_count": 20,
   "id": "223993a6",
   "metadata": {},
   "outputs": [
    {
     "name": "stdout",
     "output_type": "stream",
     "text": [
      "ar8 * 2 >>>>> \n",
      "ar8 >>> :  [11 12 13 14 15]\n",
      "aa1 >>> :  [22 24 26 28 30]\n"
     ]
    }
   ],
   "source": [
    "# ********************\n",
    "print('ar8 * 2 >>>>> ')\n",
    "print('ar8 >>> : ', ar8)\n",
    "aa1 = ar8 * 2\n",
    "print('aa1 >>> : ', aa1)"
   ]
  },
  {
   "cell_type": "code",
   "execution_count": 21,
   "id": "c1c6b9c0",
   "metadata": {},
   "outputs": [
    {
     "name": "stdout",
     "output_type": "stream",
     "text": [
      "ar8 / 2 >>>>> \n",
      "ar8 >>> :  [11 12 13 14 15]\n",
      "aa1 >>> :  [5.5 6.  6.5 7.  7.5]\n"
     ]
    }
   ],
   "source": [
    "# ////////////////////\n",
    "print('ar8 / 2 >>>>> ')\n",
    "print('ar8 >>> : ', ar8)\n",
    "aa1 = ar8 / 2\n",
    "print('aa1 >>> : ', aa1)"
   ]
  },
  {
   "cell_type": "code",
   "execution_count": 24,
   "id": "0138d504",
   "metadata": {},
   "outputs": [
    {
     "name": "stdout",
     "output_type": "stream",
     "text": [
      "ar2 >>> : \n",
      "[[10 20 30]\n",
      " [40 50 60]]\n",
      "ar4 >>> : \n",
      "[[1 2]\n",
      " [3 4]\n",
      " [5 6]]\n",
      "ar9 >>> : \n",
      "[[220 280]\n",
      " [490 640]]\n"
     ]
    }
   ],
   "source": [
    "# numpy 행렬곱 연산 : np.dot()\n",
    "print('ar2 >>> : ')\n",
    "print(ar2)\n",
    "print('ar4 >>> : ')\n",
    "print(ar4)\n",
    "ar9 = np.dot(ar2, ar4)\n",
    "print('ar9 >>> : ')\n",
    "print(ar9)"
   ]
  },
  {
   "cell_type": "code",
   "execution_count": null,
   "id": "2c476913",
   "metadata": {},
   "outputs": [],
   "source": []
  }
 ],
 "metadata": {
  "kernelspec": {
   "display_name": "Python 3 (ipykernel)",
   "language": "python",
   "name": "python3"
  },
  "language_info": {
   "codemirror_mode": {
    "name": "ipython",
    "version": 3
   },
   "file_extension": ".py",
   "mimetype": "text/x-python",
   "name": "python",
   "nbconvert_exporter": "python",
   "pygments_lexer": "ipython3",
   "version": "3.7.6"
  }
 },
 "nbformat": 4,
 "nbformat_minor": 5
}
