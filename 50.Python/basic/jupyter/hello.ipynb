{
 "cells": [
  {
   "cell_type": "code",
   "execution_count": 2,
   "id": "f247b642",
   "metadata": {},
   "outputs": [
    {
     "data": {
      "text/plain": [
       "2"
      ]
     },
     "execution_count": 2,
     "metadata": {},
     "output_type": "execute_result"
    }
   ],
   "source": [
    "1+1"
   ]
  },
  {
   "cell_type": "code",
   "execution_count": 3,
   "id": "d515c62b",
   "metadata": {},
   "outputs": [
    {
     "name": "stdout",
     "output_type": "stream",
     "text": [
      "hello\n"
     ]
    }
   ],
   "source": [
    "print('hello')"
   ]
  },
  {
   "cell_type": "code",
   "execution_count": 4,
   "id": "a5730241",
   "metadata": {},
   "outputs": [
    {
     "name": "stdout",
     "output_type": "stream",
     "text": [
      "123\n"
     ]
    }
   ],
   "source": [
    "a = 123\n",
    "print(a)"
   ]
  },
  {
   "cell_type": "code",
   "execution_count": 5,
   "id": "4d98f4a5",
   "metadata": {},
   "outputs": [
    {
     "data": {
      "text/plain": [
       "123"
      ]
     },
     "execution_count": 5,
     "metadata": {},
     "output_type": "execute_result"
    }
   ],
   "source": [
    "a"
   ]
  },
  {
   "cell_type": "code",
   "execution_count": 6,
   "id": "90b1725e",
   "metadata": {},
   "outputs": [],
   "source": [
    "a = -123"
   ]
  },
  {
   "cell_type": "code",
   "execution_count": 7,
   "id": "3ea7ba46",
   "metadata": {},
   "outputs": [
    {
     "data": {
      "text/plain": [
       "-123"
      ]
     },
     "execution_count": 7,
     "metadata": {},
     "output_type": "execute_result"
    }
   ],
   "source": [
    "a"
   ]
  },
  {
   "cell_type": "code",
   "execution_count": 8,
   "id": "ced58e29",
   "metadata": {},
   "outputs": [],
   "source": [
    "a = 0o12"
   ]
  },
  {
   "cell_type": "code",
   "execution_count": 9,
   "id": "f7be99ec",
   "metadata": {},
   "outputs": [
    {
     "data": {
      "text/plain": [
       "10"
      ]
     },
     "execution_count": 9,
     "metadata": {},
     "output_type": "execute_result"
    }
   ],
   "source": [
    "a"
   ]
  },
  {
   "cell_type": "code",
   "execution_count": 10,
   "id": "ff595fd1",
   "metadata": {},
   "outputs": [],
   "source": [
    "a = 0x12A"
   ]
  },
  {
   "cell_type": "code",
   "execution_count": 11,
   "id": "4a7f3409",
   "metadata": {},
   "outputs": [
    {
     "data": {
      "text/plain": [
       "298"
      ]
     },
     "execution_count": 11,
     "metadata": {},
     "output_type": "execute_result"
    }
   ],
   "source": [
    "a"
   ]
  },
  {
   "cell_type": "code",
   "execution_count": 12,
   "id": "4a7b8b70",
   "metadata": {},
   "outputs": [],
   "source": [
    "s1 = \"\"\"hello world\"\"\""
   ]
  },
  {
   "cell_type": "code",
   "execution_count": 13,
   "id": "e1977a13",
   "metadata": {},
   "outputs": [
    {
     "data": {
      "text/plain": [
       "'hello world'"
      ]
     },
     "execution_count": 13,
     "metadata": {},
     "output_type": "execute_result"
    }
   ],
   "source": [
    "s1"
   ]
  },
  {
   "cell_type": "code",
   "execution_count": 14,
   "id": "b538e625",
   "metadata": {},
   "outputs": [
    {
     "data": {
      "text/plain": [
       "str"
      ]
     },
     "execution_count": 14,
     "metadata": {},
     "output_type": "execute_result"
    }
   ],
   "source": [
    "type(s1)"
   ]
  },
  {
   "cell_type": "code",
   "execution_count": 15,
   "id": "f4523e95",
   "metadata": {},
   "outputs": [],
   "source": [
    "head = \"python\""
   ]
  },
  {
   "cell_type": "code",
   "execution_count": 16,
   "id": "7fe8e658",
   "metadata": {},
   "outputs": [
    {
     "data": {
      "text/plain": [
       "'python'"
      ]
     },
     "execution_count": 16,
     "metadata": {},
     "output_type": "execute_result"
    }
   ],
   "source": [
    "head"
   ]
  },
  {
   "cell_type": "code",
   "execution_count": 17,
   "id": "b4c0d474",
   "metadata": {},
   "outputs": [],
   "source": [
    "a = head * 2"
   ]
  },
  {
   "cell_type": "code",
   "execution_count": 18,
   "id": "fa009e74",
   "metadata": {},
   "outputs": [
    {
     "data": {
      "text/plain": [
       "'pythonpython'"
      ]
     },
     "execution_count": 18,
     "metadata": {},
     "output_type": "execute_result"
    }
   ],
   "source": [
    "a"
   ]
  },
  {
   "cell_type": "code",
   "execution_count": 22,
   "id": "4b864344",
   "metadata": {},
   "outputs": [],
   "source": [
    "tail = \"is fun\""
   ]
  },
  {
   "cell_type": "code",
   "execution_count": 24,
   "id": "00cd1624",
   "metadata": {},
   "outputs": [
    {
     "name": "stdout",
     "output_type": "stream",
     "text": [
      "pythonis fun\n"
     ]
    }
   ],
   "source": [
    "print(head+tail)"
   ]
  },
  {
   "cell_type": "code",
   "execution_count": 25,
   "id": "94f0a3c1",
   "metadata": {},
   "outputs": [
    {
     "name": "stdout",
     "output_type": "stream",
     "text": [
      "pythonpython\n"
     ]
    }
   ],
   "source": [
    "print(a)"
   ]
  },
  {
   "cell_type": "code",
   "execution_count": 26,
   "id": "fb153298",
   "metadata": {},
   "outputs": [
    {
     "name": "stdout",
     "output_type": "stream",
     "text": [
      "====================\n"
     ]
    }
   ],
   "source": [
    "print(\"=\" * 20)"
   ]
  },
  {
   "cell_type": "code",
   "execution_count": 28,
   "id": "3f749bfb",
   "metadata": {},
   "outputs": [
    {
     "name": "stdout",
     "output_type": "stream",
     "text": [
      "N\n",
      "i\n",
      "r\n",
      "e\n"
     ]
    }
   ],
   "source": [
    "a = \"Now is better than never\"\n",
    "print(a[0])\n",
    "print(a[4])\n",
    "print(a[-1])\n",
    "print(a[-2])"
   ]
  },
  {
   "cell_type": "code",
   "execution_count": 29,
   "id": "1e277c31",
   "metadata": {},
   "outputs": [
    {
     "name": "stdout",
     "output_type": "stream",
     "text": [
      "['Now', 'is', 'better', 'than', 'never']\n",
      "['a', ' b', ' c', ' d']\n"
     ]
    }
   ],
   "source": [
    "# 문자열 나누기 : split()\n",
    "b = a.split()\n",
    "print(b)\n",
    "\n",
    "c = \"a, b, c, d\"\n",
    "print(c.split(','))"
   ]
  },
  {
   "cell_type": "code",
   "execution_count": 30,
   "id": "74053caa",
   "metadata": {},
   "outputs": [
    {
     "name": "stdout",
     "output_type": "stream",
     "text": [
      "Python is EASY\n"
     ]
    }
   ],
   "source": [
    "# 문자열 바꾸기 : replace()\n",
    "a = \"Python is difficult\"\n",
    "print(a.replace(\"difficult\", \"EASY\"))"
   ]
  },
  {
   "cell_type": "code",
   "execution_count": 31,
   "id": "fa2d5809",
   "metadata": {},
   "outputs": [
    {
     "name": "stdout",
     "output_type": "stream",
     "text": [
      "b.join('Abcd') >>> :  A,b,c,d\n"
     ]
    }
   ],
   "source": [
    "# 문자 삽입 : join()\n",
    "b = \",\"\n",
    "c = b.join('Abcd')\n",
    "print('''b.join('Abcd') >>> : ''', c)\n"
   ]
  },
  {
   "cell_type": "code",
   "execution_count": 32,
   "id": "e2a73a57",
   "metadata": {},
   "outputs": [],
   "source": [
    "b = \"+\"\n",
    "c = b.join('Python is Hell')"
   ]
  },
  {
   "cell_type": "code",
   "execution_count": 33,
   "id": "26c487c9",
   "metadata": {},
   "outputs": [
    {
     "name": "stdout",
     "output_type": "stream",
     "text": [
      "P+y+t+h+o+n+ +i+s+ +H+e+l+l\n"
     ]
    }
   ],
   "source": [
    "print(c)"
   ]
  },
  {
   "cell_type": "code",
   "execution_count": 34,
   "id": "ffacfedd",
   "metadata": {},
   "outputs": [
    {
     "name": "stdout",
     "output_type": "stream",
     "text": [
      "파+이+썬+은+어+려+웡\n"
     ]
    }
   ],
   "source": [
    "c = b.join('파이썬은어려웡')\n",
    "print(c)"
   ]
  },
  {
   "cell_type": "code",
   "execution_count": null,
   "id": "53499438",
   "metadata": {},
   "outputs": [],
   "source": []
  }
 ],
 "metadata": {
  "kernelspec": {
   "display_name": "Python 3 (ipykernel)",
   "language": "python",
   "name": "python3"
  },
  "language_info": {
   "codemirror_mode": {
    "name": "ipython",
    "version": 3
   },
   "file_extension": ".py",
   "mimetype": "text/x-python",
   "name": "python",
   "nbconvert_exporter": "python",
   "pygments_lexer": "ipython3",
   "version": "3.7.6"
  }
 },
 "nbformat": 4,
 "nbformat_minor": 5
}
