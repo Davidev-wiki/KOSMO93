{
 "cells": [
  {
   "cell_type": "code",
   "execution_count": 1,
   "id": "fab136ea",
   "metadata": {},
   "outputs": [
    {
     "name": "stdout",
     "output_type": "stream",
     "text": [
      "3.4.3\n",
      "y1 >>> :  [350, 410, 520, 695]\n",
      "y2 >>> :  [200, 250, 385, 350]\n",
      "x >>> :  range(0, 4)\n",
      "pp >>> : <BarContainer object of 4 artists>\n",
      "pp >>> : <BarContainer object of 4 artists>\n",
      "pp >>> : Text(0.5, 1.0, 'Quarterly sales')\n",
      "pp >>> : Text(0.5, 0, 'Quarterly')\n",
      "pp >>> : Text(0, 0.5, 'Sales')\n",
      "pp >>> :  ([<matplotlib.axis.XTick object at 0x00000196256F5F88>, <matplotlib.axis.XTick object at 0x00000196256B8C08>, <matplotlib.axis.XTick object at 0x00000196256F1588>, <matplotlib.axis.XTick object at 0x000001962778D048>], [Text(0, 0, 'first'), Text(1, 0, 'second'), Text(2, 0, 'third'), Text(3, 0, 'fourth')])\n",
      "pp >>> : Legend\n"
     ]
    },
    {
     "data": {
      "image/png": "[encoded data removed]",
      "text/plain": [
       "<Figure size 432x288 with 1 Axes>"
      ]
     },
     "metadata": {
      "needs_background": "light"
     },
     "output_type": "display_data"
    }
   ],
   "source": [
    "import matplotlib\n",
    "import matplotlib.pyplot as plt\n",
    "\n",
    "print(matplotlib.__version__)\n",
    "\n",
    "# 데이터 준비\n",
    "\n",
    "y1 = [350, 410, 520, 695]\n",
    "y2 = [200, 250, 385, 350]\n",
    "\n",
    "print('y1 >>> : ', y1)\n",
    "print('y2 >>> : ', y2)\n",
    "\n",
    "x = range(len(y1))\n",
    "print('x >>> : ', x)\n",
    "\n",
    "# x축과 y축 데이터를 지정하여 바 차트 생성하기 : plot.bar(x,y)\n",
    "pp = plt.bar(x, y1, width=0.7, color='blue')\n",
    "print('pp >>> :', pp)\n",
    "\n",
    "pp = plt.bar(x, y2, width=0.7, color='red')\n",
    "print('pp >>> :', pp)\n",
    "\n",
    "# 차트 제목 설정\n",
    "pp = plt.title('Quarterly sales')\n",
    "print('pp >>> :', pp)\n",
    "\n",
    "# x축 레이블 설정\n",
    "pp = plt.xlabel('Quarterly')\n",
    "print('pp >>> :', pp)\n",
    "\n",
    "# y축 레이블 설정\n",
    "pp = plt.ylabel('Sales')\n",
    "print('pp >>> :', pp)\n",
    "\n",
    "# 눈금 리스트 생성\n",
    "xLabel = ['first', 'second', 'third', 'fourth']\n",
    "\n",
    "# 바 차트의 x축 누름 이름 설정\n",
    "pp = plt.xticks(x, xLabel, fontsize=10)\n",
    "print('pp >>> : ', pp)\n",
    "\n",
    "\n",
    "# 범례 설정\n",
    "pp = plt.legend(['chairs', 'desks'])\n",
    "print('pp >>> :', pp)\n",
    "\n",
    "plt.show()\n"
   ]
  },
  {
   "cell_type": "code",
   "execution_count": null,
   "id": "5f099578",
   "metadata": {},
   "outputs": [],
   "source": []
  }
 ],
 "metadata": {
  "kernelspec": {
   "display_name": "Python 3 (ipykernel)",
   "language": "python",
   "name": "python3"
  },
  "language_info": {
   "codemirror_mode": {
    "name": "ipython",
    "version": 3
   },
   "file_extension": ".py",
   "mimetype": "text/x-python",
   "name": "python",
   "nbconvert_exporter": "python",
   "pygments_lexer": "ipython3",
   "version": "3.7.6"
  }
 },
 "nbformat": 4,
 "nbformat_minor": 5
}
