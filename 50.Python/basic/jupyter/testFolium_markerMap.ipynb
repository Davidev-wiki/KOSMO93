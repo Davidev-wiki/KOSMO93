{
 "cells": [
  {
   "cell_type": "code",
   "execution_count": 4,
   "id": "e3cf2e41",
   "metadata": {},
   "outputs": [],
   "source": [
    "# -*- coding : utf-8 -*-\n",
    "\n",
    "# 라이브러리 불러오기\n",
    "import pandas as pd\n",
    "import folium\n",
    "\n",
    "\n",
    "# 대학교 리스트를 데이터 프레임으로 변환\n",
    "# 엑셀 읽을 때 필요한 엔진 : 'openpyxl'\n",
    "df = pd.read_excel('./서울지역 대학교 위치.xlsx', engine='openpyxl')\n",
    "\n",
    "\n",
    "# 서울 지도 만들기\n",
    "seoul_map = folium.Map(location=[37.55,126.98], tiles='Stamen Terrain', zoom_start=12)\n",
    "\n",
    "\n",
    "# 대학교 위치 정보를 Marker로 표시\n",
    "for name, lat, lng in zip(df.index, df.위도, df.경도):\n",
    "    folium.Marker([lat, lng], popup=name).add_to(seoul_map)\n",
    "    \n",
    "# 지도를 HTML 파일로 저장하기\n",
    "seoul_map.save('./seoul_colleges.html')"
   ]
  },
  {
   "cell_type": "code",
   "execution_count": null,
   "id": "1ce493c0",
   "metadata": {},
   "outputs": [],
   "source": []
  }
 ],
 "metadata": {
  "kernelspec": {
   "display_name": "Python 3 (ipykernel)",
   "language": "python",
   "name": "python3"
  },
  "language_info": {
   "codemirror_mode": {
    "name": "ipython",
    "version": 3
   },
   "file_extension": ".py",
   "mimetype": "text/x-python",
   "name": "python",
   "nbconvert_exporter": "python",
   "pygments_lexer": "ipython3",
   "version": "3.7.6"
  }
 },
 "nbformat": 4,
 "nbformat_minor": 5
}
