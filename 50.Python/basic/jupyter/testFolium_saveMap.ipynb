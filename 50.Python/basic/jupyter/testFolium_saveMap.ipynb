{
 "cells": [
  {
   "cell_type": "code",
   "execution_count": 1,
   "id": "5bdc125d",
   "metadata": {},
   "outputs": [],
   "source": [
    "import folium\n",
    "\n",
    "seoul_map = folium.Map(location=[37.55, 126.98], zoom_start=12)\n",
    "\n",
    "seoul_map.save('.save.html')"
   ]
  },
  {
   "cell_type": "code",
   "execution_count": null,
   "id": "f5d54d45",
   "metadata": {},
   "outputs": [],
   "source": []
  }
 ],
 "metadata": {
  "kernelspec": {
   "display_name": "Python 3 (ipykernel)",
   "language": "python",
   "name": "python3"
  },
  "language_info": {
   "codemirror_mode": {
    "name": "ipython",
    "version": 3
   },
   "file_extension": ".py",
   "mimetype": "text/x-python",
   "name": "python",
   "nbconvert_exporter": "python",
   "pygments_lexer": "ipython3",
   "version": "3.7.6"
  }
 },
 "nbformat": 4,
 "nbformat_minor": 5
}
